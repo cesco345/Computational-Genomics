{
 "cells": [
  {
   "cell_type": "markdown",
   "id": "44e22a71",
   "metadata": {},
   "source": [
    "# How to find overlaps between pair of reads"
   ]
  },
  {
   "cell_type": "markdown",
   "id": "525626e5",
   "metadata": {},
   "source": [
    "### Finding overlaps"
   ]
  },
  {
   "cell_type": "code",
   "execution_count": 6,
   "id": "86ce0543",
   "metadata": {},
   "outputs": [],
   "source": [
    "def overlap(a, b, min_length=4):\n",
    "    \"\"\" Return length of longest suffix of 'a' matching\n",
    "        a prefix of 'b' that is at least 'min_length'\n",
    "        characters long.  If no such overlap exists,\n",
    "        \"\"\"\n",
    "    start = 0  # start all the way at the left return 0\n",
    "    while True:\n",
    "        start = a.find(b[:min_length], start)\n",
    "    \n",
    "        if start == -1:\n",
    "            return 0\n",
    "        if b.startswith(a[start:]):\n",
    "            return len(a)-start\n",
    "        start += 1  "
   ]
  },
  {
   "cell_type": "code",
   "execution_count": 7,
   "id": "f562f9fd",
   "metadata": {},
   "outputs": [
    {
     "data": {
      "text/plain": [
       "4"
      ]
     },
     "execution_count": 7,
     "metadata": {},
     "output_type": "execute_result"
    }
   ],
   "source": [
    "overlap('ACTGTCCTCCGTCTACGTA', 'CGTACCGT')\n"
   ]
  },
  {
   "cell_type": "code",
   "execution_count": 8,
   "id": "c51e0a2e",
   "metadata": {},
   "outputs": [
    {
     "data": {
      "text/plain": [
       "[(1, 2, 3), (1, 3, 2), (2, 1, 3), (2, 3, 1), (3, 1, 2), (3, 2, 1)]"
      ]
     },
     "execution_count": 8,
     "metadata": {},
     "output_type": "execute_result"
    }
   ],
   "source": [
    "from itertools import permutations\n",
    "\n",
    "# it will print out ((1,2,3), (1,3,2), (2, 1, 3), (2, 3, 1), (3, 1, 2), (3, 2, 1))\n",
    "list(permutations((1,2,3), 3))"
   ]
  },
  {
   "cell_type": "code",
   "execution_count": 9,
   "id": "e64b195a",
   "metadata": {},
   "outputs": [],
   "source": [
    "def naive_overlap_map(reads, k):\n",
    "    olaps = {}\n",
    "    for a, b in permutations(reads, 2):\n",
    "        olen = overlap(a, b, min_length = k)\n",
    "        if olen > 0:\n",
    "            olaps[(a,b)] = olen\n",
    "    return olaps"
   ]
  },
  {
   "cell_type": "code",
   "execution_count": 10,
   "id": "d4e1290c",
   "metadata": {},
   "outputs": [
    {
     "name": "stdout",
     "output_type": "stream",
     "text": [
      "{('ACGGATGATC', 'GATCAAGT'): 4, ('TTCACGGA', 'ACGGATGATC'): 5}\n"
     ]
    }
   ],
   "source": [
    "reads = ['ACGGATGATC', 'GATCAAGT', 'TTCACGGA']\n",
    "print(naive_overlap_map(reads, 3))"
   ]
  },
  {
   "cell_type": "code",
   "execution_count": null,
   "id": "db99fb87",
   "metadata": {},
   "outputs": [],
   "source": []
  }
 ],
 "metadata": {
  "kernelspec": {
   "display_name": "Python 3 (ipykernel)",
   "language": "python",
   "name": "python3"
  },
  "language_info": {
   "codemirror_mode": {
    "name": "ipython",
    "version": 3
   },
   "file_extension": ".py",
   "mimetype": "text/x-python",
   "name": "python",
   "nbconvert_exporter": "python",
   "pygments_lexer": "ipython3",
   "version": "3.8.10"
  }
 },
 "nbformat": 4,
 "nbformat_minor": 5
}
