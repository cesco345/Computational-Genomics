{
 "cells": [
  {
   "cell_type": "markdown",
   "id": "8ab509fd",
   "metadata": {},
   "source": [
    "# Edit Distance vs Dynamic Programming"
   ]
  },
  {
   "cell_type": "code",
   "execution_count": null,
   "id": "60d46f19",
   "metadata": {},
   "outputs": [],
   "source": []
  },
  {
   "cell_type": "code",
   "execution_count": 17,
   "id": "c9d4e5b6",
   "metadata": {},
   "outputs": [],
   "source": [
    "!\n"
   ]
  },
  {
   "cell_type": "code",
   "execution_count": 6,
   "id": "47889544",
   "metadata": {},
   "outputs": [],
   "source": [
    "def hammingDistance(x, y):\n",
    "    ''' Return Hamming distance between x and y '''\n",
    "    assert len(x) == len(y)\n",
    "    nmm = 0\n",
    "    for i in range(0, len(x)):\n",
    "        if x[i] != y[i]:\n",
    "            nmm += 1\n",
    "    return nmm"
   ]
  },
  {
   "cell_type": "code",
   "execution_count": 11,
   "id": "3cedf67c",
   "metadata": {},
   "outputs": [
    {
     "name": "stdout",
     "output_type": "stream",
     "text": [
      "580 ns ± 5.06 ns per loop (mean ± std. dev. of 7 runs, 1,000,000 loops each)\n"
     ]
    }
   ],
   "source": [
    "%%timeit\n",
    "hammingDistance('nature', 'mature')"
   ]
  },
  {
   "cell_type": "code",
   "execution_count": 12,
   "id": "dc1605fb",
   "metadata": {},
   "outputs": [
    {
     "name": "stdout",
     "output_type": "stream",
     "text": [
      "598 ns ± 6.66 ns per loop (mean ± std. dev. of 7 runs, 1,000,000 loops each)\n"
     ]
    }
   ],
   "source": [
    "%%timeit\n",
    "hammingDistance('hollow', 'fellow')"
   ]
  },
  {
   "cell_type": "code",
   "execution_count": 13,
   "id": "2431bf65",
   "metadata": {},
   "outputs": [
    {
     "name": "stdout",
     "output_type": "stream",
     "text": [
      "490 ns ± 9.41 ns per loop (mean ± std. dev. of 7 runs, 1,000,000 loops each)\n"
     ]
    }
   ],
   "source": [
    "%%timeit\n",
    "hammingDistance('team', 'beam')"
   ]
  },
  {
   "cell_type": "code",
   "execution_count": null,
   "id": "c1ee8860",
   "metadata": {},
   "outputs": [],
   "source": [
    "#In comparison to Hamming Distance Edit Distance is a lot faster"
   ]
  },
  {
   "cell_type": "code",
   "execution_count": 14,
   "id": "6ba15c0e",
   "metadata": {},
   "outputs": [
    {
     "name": "stdout",
     "output_type": "stream",
     "text": [
      "59.5 ns ± 0.625 ns per loop (mean ± std. dev. of 7 runs, 10,000,000 loops each)\n"
     ]
    }
   ],
   "source": [
    "%%timeit\n",
    "def editDistRecursive(x,y):\n",
    "    if len(x) == 0:\n",
    "        return len(y)\n",
    "    elif len(y) == 0:\n",
    "        return len(x)\n",
    "    else:\n",
    "        distHor = editDistRecursive(x[:-1], y) + 1\n",
    "        distVer = editDistRecursive(x, y[:-1]) + 1\n",
    "        if x[-1] == y[-1]:\n",
    "            distDiag = editDistRecursive(x[:-1], y[:-1])\n",
    "        else:\n",
    "            distDiag = editDistRecursive(x[:-1], y[:-1]) + 1\n",
    "            \n",
    "        return min(distHor, distVer, distDiag)"
   ]
  },
  {
   "cell_type": "code",
   "execution_count": 16,
   "id": "1aba964e",
   "metadata": {},
   "outputs": [
    {
     "name": "stdout",
     "output_type": "stream",
     "text": [
      "3\n",
      "3\n",
      "3\n",
      "3\n",
      "3\n",
      "3\n",
      "3\n",
      "3\n",
      "17.6 s ± 32.8 ms per loop (mean ± std. dev. of 7 runs, 1 loop each)\n"
     ]
    }
   ],
   "source": [
    "%%timeit\n",
    "def edDistRecursive(x, y):\n",
    "    if len(x) == 0: return len(y)\n",
    "    if len(y) == 0: return len(x)\n",
    "    delt = 1 if x[-1] != y[-1] else 0\n",
    "    diag = edDistRecursive(x[:-1], y[:-1]) + delt \n",
    "    vert = edDistRecursive(x[:-1], y) + 1\n",
    "    horz = edDistRecursive(x, y[:-1]) + 1\n",
    "    return min(diag, vert, horz)\n",
    "\n",
    "print(edDistRecursive('Shakespeare', 'shake spear')) # this takes a while!"
   ]
  },
  {
   "cell_type": "code",
   "execution_count": 17,
   "id": "226d00af",
   "metadata": {},
   "outputs": [],
   "source": [
    "def edDistRecursiveMemo(x, y, memo=None):\n",
    "    ''' A version of edDistRecursive with memoization.  For each x, y we see, we\n",
    "        record result from edDistRecursiveMemo(x, y).  In the future, we retrieve\n",
    "        recorded result rather than re-run the function. '''\n",
    "    if memo is None: memo = {}\n",
    "    if len(x) == 0: return len(y)\n",
    "    if len(y) == 0: return len(x)\n",
    "    if (len(x), len(y)) in memo:\n",
    "        return memo[(len(x), len(y))]\n",
    "    delt = 1 if x[-1] != y[-1] else 0\n",
    "    diag = edDistRecursiveMemo(x[:-1], y[:-1], memo) + delt\n",
    "    vert = edDistRecursiveMemo(x[:-1], y, memo) + 1\n",
    "    horz = edDistRecursiveMemo(x, y[:-1], memo) + 1\n",
    "    ans = min(diag, vert, horz)\n",
    "    memo[(len(x), len(y))] = ans\n",
    "    return ans"
   ]
  },
  {
   "cell_type": "code",
   "execution_count": 18,
   "id": "1b7c591b",
   "metadata": {},
   "outputs": [
    {
     "name": "stdout",
     "output_type": "stream",
     "text": [
      "3\n",
      "CPU times: user 279 µs, sys: 0 ns, total: 279 µs\n",
      "Wall time: 282 µs\n"
     ]
    }
   ],
   "source": [
    "%%time\n",
    "print(edDistRecursiveMemo('Shakespeare', 'shake spear'))"
   ]
  },
  {
   "cell_type": "code",
   "execution_count": null,
   "id": "9640453b",
   "metadata": {},
   "outputs": [],
   "source": []
  }
 ],
 "metadata": {
  "kernelspec": {
   "display_name": "Python 3 (ipykernel)",
   "language": "python",
   "name": "python3"
  },
  "language_info": {
   "codemirror_mode": {
    "name": "ipython",
    "version": 3
   },
   "file_extension": ".py",
   "mimetype": "text/x-python",
   "name": "python",
   "nbconvert_exporter": "python",
   "pygments_lexer": "ipython3",
   "version": "3.8.10"
  }
 },
 "nbformat": 4,
 "nbformat_minor": 5
}
